{
 "cells": [
  {
   "cell_type": "code",
   "execution_count": 1,
   "metadata": {
    "id": "6gLocNXNO7nQ"
   },
   "outputs": [],
   "source": [
    "import numpy as np\n",
    "import pandas as pd\n",
    "from sklearn.model_selection import train_test_split\n",
    "from sklearn.linear_model import LogisticRegression\n",
    "from sklearn.metrics import accuracy_score"
   ]
  },
  {
   "cell_type": "code",
   "execution_count": 2,
   "metadata": {
    "id": "uB0NpLGbRmkX"
   },
   "outputs": [],
   "source": [
    "credit_card_data = pd.read_csv('creditcard.csv')"
   ]
  },
  {
   "cell_type": "code",
   "execution_count": 3,
   "metadata": {
    "colab": {
     "base_uri": "https://localhost:8080/",
     "height": 299
    },
    "id": "m8XssYTiSKur",
    "outputId": "6b9d2a8b-4026-45d2-89fc-310799b9032b"
   },
   "outputs": [
    {
     "data": {
      "text/html": [
       "<div>\n",
       "<style scoped>\n",
       "    .dataframe tbody tr th:only-of-type {\n",
       "        vertical-align: middle;\n",
       "    }\n",
       "\n",
       "    .dataframe tbody tr th {\n",
       "        vertical-align: top;\n",
       "    }\n",
       "\n",
       "    .dataframe thead th {\n",
       "        text-align: right;\n",
       "    }\n",
       "</style>\n",
       "<table border=\"1\" class=\"dataframe\">\n",
       "  <thead>\n",
       "    <tr style=\"text-align: right;\">\n",
       "      <th></th>\n",
       "      <th>Time</th>\n",
       "      <th>V1</th>\n",
       "      <th>V2</th>\n",
       "      <th>V3</th>\n",
       "      <th>V4</th>\n",
       "      <th>V5</th>\n",
       "      <th>V6</th>\n",
       "      <th>V7</th>\n",
       "      <th>V8</th>\n",
       "      <th>V9</th>\n",
       "      <th>...</th>\n",
       "      <th>V21</th>\n",
       "      <th>V22</th>\n",
       "      <th>V23</th>\n",
       "      <th>V24</th>\n",
       "      <th>V25</th>\n",
       "      <th>V26</th>\n",
       "      <th>V27</th>\n",
       "      <th>V28</th>\n",
       "      <th>Amount</th>\n",
       "      <th>Class</th>\n",
       "    </tr>\n",
       "  </thead>\n",
       "  <tbody>\n",
       "    <tr>\n",
       "      <th>0</th>\n",
       "      <td>0.0</td>\n",
       "      <td>-1.359807</td>\n",
       "      <td>-0.072781</td>\n",
       "      <td>2.536347</td>\n",
       "      <td>1.378155</td>\n",
       "      <td>-0.338321</td>\n",
       "      <td>0.462388</td>\n",
       "      <td>0.239599</td>\n",
       "      <td>0.098698</td>\n",
       "      <td>0.363787</td>\n",
       "      <td>...</td>\n",
       "      <td>-0.018307</td>\n",
       "      <td>0.277838</td>\n",
       "      <td>-0.110474</td>\n",
       "      <td>0.066928</td>\n",
       "      <td>0.128539</td>\n",
       "      <td>-0.189115</td>\n",
       "      <td>0.133558</td>\n",
       "      <td>-0.021053</td>\n",
       "      <td>149.62</td>\n",
       "      <td>0</td>\n",
       "    </tr>\n",
       "    <tr>\n",
       "      <th>1</th>\n",
       "      <td>0.0</td>\n",
       "      <td>1.191857</td>\n",
       "      <td>0.266151</td>\n",
       "      <td>0.166480</td>\n",
       "      <td>0.448154</td>\n",
       "      <td>0.060018</td>\n",
       "      <td>-0.082361</td>\n",
       "      <td>-0.078803</td>\n",
       "      <td>0.085102</td>\n",
       "      <td>-0.255425</td>\n",
       "      <td>...</td>\n",
       "      <td>-0.225775</td>\n",
       "      <td>-0.638672</td>\n",
       "      <td>0.101288</td>\n",
       "      <td>-0.339846</td>\n",
       "      <td>0.167170</td>\n",
       "      <td>0.125895</td>\n",
       "      <td>-0.008983</td>\n",
       "      <td>0.014724</td>\n",
       "      <td>2.69</td>\n",
       "      <td>0</td>\n",
       "    </tr>\n",
       "    <tr>\n",
       "      <th>2</th>\n",
       "      <td>1.0</td>\n",
       "      <td>-1.358354</td>\n",
       "      <td>-1.340163</td>\n",
       "      <td>1.773209</td>\n",
       "      <td>0.379780</td>\n",
       "      <td>-0.503198</td>\n",
       "      <td>1.800499</td>\n",
       "      <td>0.791461</td>\n",
       "      <td>0.247676</td>\n",
       "      <td>-1.514654</td>\n",
       "      <td>...</td>\n",
       "      <td>0.247998</td>\n",
       "      <td>0.771679</td>\n",
       "      <td>0.909412</td>\n",
       "      <td>-0.689281</td>\n",
       "      <td>-0.327642</td>\n",
       "      <td>-0.139097</td>\n",
       "      <td>-0.055353</td>\n",
       "      <td>-0.059752</td>\n",
       "      <td>378.66</td>\n",
       "      <td>0</td>\n",
       "    </tr>\n",
       "    <tr>\n",
       "      <th>3</th>\n",
       "      <td>1.0</td>\n",
       "      <td>-0.966272</td>\n",
       "      <td>-0.185226</td>\n",
       "      <td>1.792993</td>\n",
       "      <td>-0.863291</td>\n",
       "      <td>-0.010309</td>\n",
       "      <td>1.247203</td>\n",
       "      <td>0.237609</td>\n",
       "      <td>0.377436</td>\n",
       "      <td>-1.387024</td>\n",
       "      <td>...</td>\n",
       "      <td>-0.108300</td>\n",
       "      <td>0.005274</td>\n",
       "      <td>-0.190321</td>\n",
       "      <td>-1.175575</td>\n",
       "      <td>0.647376</td>\n",
       "      <td>-0.221929</td>\n",
       "      <td>0.062723</td>\n",
       "      <td>0.061458</td>\n",
       "      <td>123.50</td>\n",
       "      <td>0</td>\n",
       "    </tr>\n",
       "    <tr>\n",
       "      <th>4</th>\n",
       "      <td>2.0</td>\n",
       "      <td>-1.158233</td>\n",
       "      <td>0.877737</td>\n",
       "      <td>1.548718</td>\n",
       "      <td>0.403034</td>\n",
       "      <td>-0.407193</td>\n",
       "      <td>0.095921</td>\n",
       "      <td>0.592941</td>\n",
       "      <td>-0.270533</td>\n",
       "      <td>0.817739</td>\n",
       "      <td>...</td>\n",
       "      <td>-0.009431</td>\n",
       "      <td>0.798278</td>\n",
       "      <td>-0.137458</td>\n",
       "      <td>0.141267</td>\n",
       "      <td>-0.206010</td>\n",
       "      <td>0.502292</td>\n",
       "      <td>0.219422</td>\n",
       "      <td>0.215153</td>\n",
       "      <td>69.99</td>\n",
       "      <td>0</td>\n",
       "    </tr>\n",
       "  </tbody>\n",
       "</table>\n",
       "<p>5 rows × 31 columns</p>\n",
       "</div>"
      ],
      "text/plain": [
       "   Time        V1        V2        V3        V4        V5        V6        V7  \\\n",
       "0   0.0 -1.359807 -0.072781  2.536347  1.378155 -0.338321  0.462388  0.239599   \n",
       "1   0.0  1.191857  0.266151  0.166480  0.448154  0.060018 -0.082361 -0.078803   \n",
       "2   1.0 -1.358354 -1.340163  1.773209  0.379780 -0.503198  1.800499  0.791461   \n",
       "3   1.0 -0.966272 -0.185226  1.792993 -0.863291 -0.010309  1.247203  0.237609   \n",
       "4   2.0 -1.158233  0.877737  1.548718  0.403034 -0.407193  0.095921  0.592941   \n",
       "\n",
       "         V8        V9  ...       V21       V22       V23       V24       V25  \\\n",
       "0  0.098698  0.363787  ... -0.018307  0.277838 -0.110474  0.066928  0.128539   \n",
       "1  0.085102 -0.255425  ... -0.225775 -0.638672  0.101288 -0.339846  0.167170   \n",
       "2  0.247676 -1.514654  ...  0.247998  0.771679  0.909412 -0.689281 -0.327642   \n",
       "3  0.377436 -1.387024  ... -0.108300  0.005274 -0.190321 -1.175575  0.647376   \n",
       "4 -0.270533  0.817739  ... -0.009431  0.798278 -0.137458  0.141267 -0.206010   \n",
       "\n",
       "        V26       V27       V28  Amount  Class  \n",
       "0 -0.189115  0.133558 -0.021053  149.62      0  \n",
       "1  0.125895 -0.008983  0.014724    2.69      0  \n",
       "2 -0.139097 -0.055353 -0.059752  378.66      0  \n",
       "3 -0.221929  0.062723  0.061458  123.50      0  \n",
       "4  0.502292  0.219422  0.215153   69.99      0  \n",
       "\n",
       "[5 rows x 31 columns]"
      ]
     },
     "execution_count": 3,
     "metadata": {},
     "output_type": "execute_result"
    }
   ],
   "source": [
    "credit_card_data.head()"
   ]
  },
  {
   "cell_type": "code",
   "execution_count": 4,
   "metadata": {
    "colab": {
     "base_uri": "https://localhost:8080/"
    },
    "id": "jTGvmQ9aSLX_",
    "outputId": "d150376e-79e5-4319-a981-bdabf10e3c2c"
   },
   "outputs": [
    {
     "name": "stdout",
     "output_type": "stream",
     "text": [
      "<class 'pandas.core.frame.DataFrame'>\n",
      "RangeIndex: 284807 entries, 0 to 284806\n",
      "Data columns (total 31 columns):\n",
      " #   Column  Non-Null Count   Dtype  \n",
      "---  ------  --------------   -----  \n",
      " 0   Time    284807 non-null  float64\n",
      " 1   V1      284807 non-null  float64\n",
      " 2   V2      284807 non-null  float64\n",
      " 3   V3      284807 non-null  float64\n",
      " 4   V4      284807 non-null  float64\n",
      " 5   V5      284807 non-null  float64\n",
      " 6   V6      284807 non-null  float64\n",
      " 7   V7      284807 non-null  float64\n",
      " 8   V8      284807 non-null  float64\n",
      " 9   V9      284807 non-null  float64\n",
      " 10  V10     284807 non-null  float64\n",
      " 11  V11     284807 non-null  float64\n",
      " 12  V12     284807 non-null  float64\n",
      " 13  V13     284807 non-null  float64\n",
      " 14  V14     284807 non-null  float64\n",
      " 15  V15     284807 non-null  float64\n",
      " 16  V16     284807 non-null  float64\n",
      " 17  V17     284807 non-null  float64\n",
      " 18  V18     284807 non-null  float64\n",
      " 19  V19     284807 non-null  float64\n",
      " 20  V20     284807 non-null  float64\n",
      " 21  V21     284807 non-null  float64\n",
      " 22  V22     284807 non-null  float64\n",
      " 23  V23     284807 non-null  float64\n",
      " 24  V24     284807 non-null  float64\n",
      " 25  V25     284807 non-null  float64\n",
      " 26  V26     284807 non-null  float64\n",
      " 27  V27     284807 non-null  float64\n",
      " 28  V28     284807 non-null  float64\n",
      " 29  Amount  284807 non-null  float64\n",
      " 30  Class   284807 non-null  int64  \n",
      "dtypes: float64(30), int64(1)\n",
      "memory usage: 67.4 MB\n"
     ]
    }
   ],
   "source": [
    "credit_card_data.info()"
   ]
  },
  {
   "cell_type": "code",
   "execution_count": 5,
   "metadata": {
    "colab": {
     "base_uri": "https://localhost:8080/"
    },
    "id": "c6-f5F6eTzzK",
    "outputId": "5b230e49-a047-4393-8482-cbb7030e5cac"
   },
   "outputs": [
    {
     "data": {
      "text/plain": [
       "Time      0\n",
       "V1        0\n",
       "V2        0\n",
       "V3        0\n",
       "V4        0\n",
       "V5        0\n",
       "V6        0\n",
       "V7        0\n",
       "V8        0\n",
       "V9        0\n",
       "V10       0\n",
       "V11       0\n",
       "V12       0\n",
       "V13       0\n",
       "V14       0\n",
       "V15       0\n",
       "V16       0\n",
       "V17       0\n",
       "V18       0\n",
       "V19       0\n",
       "V20       0\n",
       "V21       0\n",
       "V22       0\n",
       "V23       0\n",
       "V24       0\n",
       "V25       0\n",
       "V26       0\n",
       "V27       0\n",
       "V28       0\n",
       "Amount    0\n",
       "Class     0\n",
       "dtype: int64"
      ]
     },
     "execution_count": 5,
     "metadata": {},
     "output_type": "execute_result"
    }
   ],
   "source": [
    "credit_card_data.isnull().sum()"
   ]
  },
  {
   "cell_type": "code",
   "execution_count": 6,
   "metadata": {
    "colab": {
     "base_uri": "https://localhost:8080/"
    },
    "id": "ojY015JHY72J",
    "outputId": "c0e80763-75ba-4a9f-b0c2-d75457bf8645"
   },
   "outputs": [
    {
     "data": {
      "text/plain": [
       "0    284315\n",
       "1       492\n",
       "Name: Class, dtype: int64"
      ]
     },
     "execution_count": 6,
     "metadata": {},
     "output_type": "execute_result"
    }
   ],
   "source": [
    "credit_card_data['Class'].value_counts()"
   ]
  },
  {
   "cell_type": "markdown",
   "metadata": {
    "id": "dzaqIa8mZc9I"
   },
   "source": [
    "From the above code, it is clear that there are around 85055 transactions which are geniune and 204 transactions which are fraud. It is clear from here that the dataset is highly un-balanced."
   ]
  },
  {
   "cell_type": "code",
   "execution_count": 7,
   "metadata": {
    "id": "rPHz7qsBZ6D7"
   },
   "outputs": [],
   "source": [
    "legit_transactions = credit_card_data[credit_card_data.Class == 0]\n",
    "fraud_transactions = credit_card_data[credit_card_data.Class == 1]"
   ]
  },
  {
   "cell_type": "code",
   "execution_count": 8,
   "metadata": {
    "colab": {
     "base_uri": "https://localhost:8080/"
    },
    "id": "xAtHdkz0aicH",
    "outputId": "e688a7d1-1e3b-4015-a315-c3e4c53cdb1a"
   },
   "outputs": [
    {
     "data": {
      "text/plain": [
       "(284315, 31)"
      ]
     },
     "execution_count": 8,
     "metadata": {},
     "output_type": "execute_result"
    }
   ],
   "source": [
    "legit_transactions.shape"
   ]
  },
  {
   "cell_type": "code",
   "execution_count": 9,
   "metadata": {
    "colab": {
     "base_uri": "https://localhost:8080/"
    },
    "id": "ZgIa3Zn1arOP",
    "outputId": "ee207047-2b57-4c9b-fc7b-09db37561e41"
   },
   "outputs": [
    {
     "data": {
      "text/plain": [
       "(492, 31)"
      ]
     },
     "execution_count": 9,
     "metadata": {},
     "output_type": "execute_result"
    }
   ],
   "source": [
    "fraud_transactions.shape"
   ]
  },
  {
   "cell_type": "markdown",
   "metadata": {
    "id": "Q0k2arzsudKV"
   },
   "source": [
    "Now, since our dataset is highly unbalanced, therefore, we will use a technique called 'Under Sampling' to handle the problem of un-balanced data."
   ]
  },
  {
   "cell_type": "code",
   "execution_count": 10,
   "metadata": {
    "id": "R16utxtmunsa"
   },
   "outputs": [],
   "source": [
    "legit_transaction_sample = legit_transactions.sample(n=492) \n",
    "# here, n = 492 means we want 492 random samples out of the original legit_transaction."
   ]
  },
  {
   "cell_type": "code",
   "execution_count": 11,
   "metadata": {
    "id": "Tp43l7cDvxXt"
   },
   "outputs": [],
   "source": [
    "new_transaction_dataset = pd.concat([legit_transaction_sample, fraud_transactions], axis=0)"
   ]
  },
  {
   "cell_type": "code",
   "execution_count": 12,
   "metadata": {
    "colab": {
     "base_uri": "https://localhost:8080/",
     "height": 299
    },
    "id": "df6nlxeuwJHy",
    "outputId": "19a3df94-becb-46c1-d9d2-fa2fa5d7ee74"
   },
   "outputs": [
    {
     "data": {
      "text/html": [
       "<div>\n",
       "<style scoped>\n",
       "    .dataframe tbody tr th:only-of-type {\n",
       "        vertical-align: middle;\n",
       "    }\n",
       "\n",
       "    .dataframe tbody tr th {\n",
       "        vertical-align: top;\n",
       "    }\n",
       "\n",
       "    .dataframe thead th {\n",
       "        text-align: right;\n",
       "    }\n",
       "</style>\n",
       "<table border=\"1\" class=\"dataframe\">\n",
       "  <thead>\n",
       "    <tr style=\"text-align: right;\">\n",
       "      <th></th>\n",
       "      <th>Time</th>\n",
       "      <th>V1</th>\n",
       "      <th>V2</th>\n",
       "      <th>V3</th>\n",
       "      <th>V4</th>\n",
       "      <th>V5</th>\n",
       "      <th>V6</th>\n",
       "      <th>V7</th>\n",
       "      <th>V8</th>\n",
       "      <th>V9</th>\n",
       "      <th>...</th>\n",
       "      <th>V21</th>\n",
       "      <th>V22</th>\n",
       "      <th>V23</th>\n",
       "      <th>V24</th>\n",
       "      <th>V25</th>\n",
       "      <th>V26</th>\n",
       "      <th>V27</th>\n",
       "      <th>V28</th>\n",
       "      <th>Amount</th>\n",
       "      <th>Class</th>\n",
       "    </tr>\n",
       "  </thead>\n",
       "  <tbody>\n",
       "    <tr>\n",
       "      <th>191570</th>\n",
       "      <td>129324.0</td>\n",
       "      <td>-0.659190</td>\n",
       "      <td>0.300985</td>\n",
       "      <td>0.974375</td>\n",
       "      <td>-2.074070</td>\n",
       "      <td>-0.165510</td>\n",
       "      <td>-0.384472</td>\n",
       "      <td>1.126056</td>\n",
       "      <td>-2.427729</td>\n",
       "      <td>0.669159</td>\n",
       "      <td>...</td>\n",
       "      <td>0.813967</td>\n",
       "      <td>0.801664</td>\n",
       "      <td>-0.115847</td>\n",
       "      <td>0.064696</td>\n",
       "      <td>-0.573011</td>\n",
       "      <td>-0.522845</td>\n",
       "      <td>-2.175519</td>\n",
       "      <td>-1.601961</td>\n",
       "      <td>68.00</td>\n",
       "      <td>0</td>\n",
       "    </tr>\n",
       "    <tr>\n",
       "      <th>38415</th>\n",
       "      <td>39387.0</td>\n",
       "      <td>-1.003248</td>\n",
       "      <td>1.266156</td>\n",
       "      <td>1.309297</td>\n",
       "      <td>-1.353087</td>\n",
       "      <td>-0.096595</td>\n",
       "      <td>-1.060435</td>\n",
       "      <td>0.882678</td>\n",
       "      <td>-0.239831</td>\n",
       "      <td>0.520263</td>\n",
       "      <td>...</td>\n",
       "      <td>-0.142043</td>\n",
       "      <td>0.081006</td>\n",
       "      <td>0.011637</td>\n",
       "      <td>0.665971</td>\n",
       "      <td>-0.203335</td>\n",
       "      <td>0.745531</td>\n",
       "      <td>0.359884</td>\n",
       "      <td>0.047133</td>\n",
       "      <td>1.31</td>\n",
       "      <td>0</td>\n",
       "    </tr>\n",
       "    <tr>\n",
       "      <th>27098</th>\n",
       "      <td>34385.0</td>\n",
       "      <td>-1.622794</td>\n",
       "      <td>1.162741</td>\n",
       "      <td>0.995701</td>\n",
       "      <td>-1.363309</td>\n",
       "      <td>-0.381152</td>\n",
       "      <td>-1.237467</td>\n",
       "      <td>0.446202</td>\n",
       "      <td>-0.043135</td>\n",
       "      <td>1.018277</td>\n",
       "      <td>...</td>\n",
       "      <td>-0.295190</td>\n",
       "      <td>-0.332916</td>\n",
       "      <td>0.245540</td>\n",
       "      <td>0.399391</td>\n",
       "      <td>-0.003886</td>\n",
       "      <td>0.748958</td>\n",
       "      <td>0.575626</td>\n",
       "      <td>0.235932</td>\n",
       "      <td>3.07</td>\n",
       "      <td>0</td>\n",
       "    </tr>\n",
       "    <tr>\n",
       "      <th>189181</th>\n",
       "      <td>128291.0</td>\n",
       "      <td>-0.065335</td>\n",
       "      <td>1.105277</td>\n",
       "      <td>-0.510529</td>\n",
       "      <td>-0.593565</td>\n",
       "      <td>0.774591</td>\n",
       "      <td>-0.855645</td>\n",
       "      <td>1.082110</td>\n",
       "      <td>-0.252031</td>\n",
       "      <td>0.235357</td>\n",
       "      <td>...</td>\n",
       "      <td>0.291740</td>\n",
       "      <td>1.183954</td>\n",
       "      <td>-0.204945</td>\n",
       "      <td>-0.621305</td>\n",
       "      <td>-0.650454</td>\n",
       "      <td>-0.174268</td>\n",
       "      <td>0.618489</td>\n",
       "      <td>0.372499</td>\n",
       "      <td>9.95</td>\n",
       "      <td>0</td>\n",
       "    </tr>\n",
       "    <tr>\n",
       "      <th>234352</th>\n",
       "      <td>147939.0</td>\n",
       "      <td>2.155114</td>\n",
       "      <td>-0.680925</td>\n",
       "      <td>-2.751542</td>\n",
       "      <td>-1.247486</td>\n",
       "      <td>1.020226</td>\n",
       "      <td>0.167963</td>\n",
       "      <td>0.139779</td>\n",
       "      <td>-0.095954</td>\n",
       "      <td>-1.221846</td>\n",
       "      <td>...</td>\n",
       "      <td>0.569128</td>\n",
       "      <td>1.772001</td>\n",
       "      <td>-0.238138</td>\n",
       "      <td>-1.537839</td>\n",
       "      <td>0.588385</td>\n",
       "      <td>0.412609</td>\n",
       "      <td>-0.054327</td>\n",
       "      <td>-0.119714</td>\n",
       "      <td>20.00</td>\n",
       "      <td>0</td>\n",
       "    </tr>\n",
       "  </tbody>\n",
       "</table>\n",
       "<p>5 rows × 31 columns</p>\n",
       "</div>"
      ],
      "text/plain": [
       "            Time        V1        V2        V3        V4        V5        V6  \\\n",
       "191570  129324.0 -0.659190  0.300985  0.974375 -2.074070 -0.165510 -0.384472   \n",
       "38415    39387.0 -1.003248  1.266156  1.309297 -1.353087 -0.096595 -1.060435   \n",
       "27098    34385.0 -1.622794  1.162741  0.995701 -1.363309 -0.381152 -1.237467   \n",
       "189181  128291.0 -0.065335  1.105277 -0.510529 -0.593565  0.774591 -0.855645   \n",
       "234352  147939.0  2.155114 -0.680925 -2.751542 -1.247486  1.020226  0.167963   \n",
       "\n",
       "              V7        V8        V9  ...       V21       V22       V23  \\\n",
       "191570  1.126056 -2.427729  0.669159  ...  0.813967  0.801664 -0.115847   \n",
       "38415   0.882678 -0.239831  0.520263  ... -0.142043  0.081006  0.011637   \n",
       "27098   0.446202 -0.043135  1.018277  ... -0.295190 -0.332916  0.245540   \n",
       "189181  1.082110 -0.252031  0.235357  ...  0.291740  1.183954 -0.204945   \n",
       "234352  0.139779 -0.095954 -1.221846  ...  0.569128  1.772001 -0.238138   \n",
       "\n",
       "             V24       V25       V26       V27       V28  Amount  Class  \n",
       "191570  0.064696 -0.573011 -0.522845 -2.175519 -1.601961   68.00      0  \n",
       "38415   0.665971 -0.203335  0.745531  0.359884  0.047133    1.31      0  \n",
       "27098   0.399391 -0.003886  0.748958  0.575626  0.235932    3.07      0  \n",
       "189181 -0.621305 -0.650454 -0.174268  0.618489  0.372499    9.95      0  \n",
       "234352 -1.537839  0.588385  0.412609 -0.054327 -0.119714   20.00      0  \n",
       "\n",
       "[5 rows x 31 columns]"
      ]
     },
     "execution_count": 12,
     "metadata": {},
     "output_type": "execute_result"
    }
   ],
   "source": [
    "new_transaction_dataset.head()"
   ]
  },
  {
   "cell_type": "code",
   "execution_count": 13,
   "metadata": {
    "colab": {
     "base_uri": "https://localhost:8080/"
    },
    "id": "rXox18sYwNJV",
    "outputId": "ed9b994f-45d8-45c9-bc25-1d3be1a95888"
   },
   "outputs": [
    {
     "data": {
      "text/plain": [
       "(984, 31)"
      ]
     },
     "execution_count": 13,
     "metadata": {},
     "output_type": "execute_result"
    }
   ],
   "source": [
    "new_transaction_dataset.shape"
   ]
  },
  {
   "cell_type": "code",
   "execution_count": 14,
   "metadata": {
    "colab": {
     "base_uri": "https://localhost:8080/"
    },
    "id": "sqpkORwEwXLM",
    "outputId": "a7d4a45b-f340-4ddc-e808-5db521c35eef"
   },
   "outputs": [
    {
     "name": "stdout",
     "output_type": "stream",
     "text": [
      "<class 'pandas.core.frame.DataFrame'>\n",
      "Int64Index: 984 entries, 191570 to 281674\n",
      "Data columns (total 31 columns):\n",
      " #   Column  Non-Null Count  Dtype  \n",
      "---  ------  --------------  -----  \n",
      " 0   Time    984 non-null    float64\n",
      " 1   V1      984 non-null    float64\n",
      " 2   V2      984 non-null    float64\n",
      " 3   V3      984 non-null    float64\n",
      " 4   V4      984 non-null    float64\n",
      " 5   V5      984 non-null    float64\n",
      " 6   V6      984 non-null    float64\n",
      " 7   V7      984 non-null    float64\n",
      " 8   V8      984 non-null    float64\n",
      " 9   V9      984 non-null    float64\n",
      " 10  V10     984 non-null    float64\n",
      " 11  V11     984 non-null    float64\n",
      " 12  V12     984 non-null    float64\n",
      " 13  V13     984 non-null    float64\n",
      " 14  V14     984 non-null    float64\n",
      " 15  V15     984 non-null    float64\n",
      " 16  V16     984 non-null    float64\n",
      " 17  V17     984 non-null    float64\n",
      " 18  V18     984 non-null    float64\n",
      " 19  V19     984 non-null    float64\n",
      " 20  V20     984 non-null    float64\n",
      " 21  V21     984 non-null    float64\n",
      " 22  V22     984 non-null    float64\n",
      " 23  V23     984 non-null    float64\n",
      " 24  V24     984 non-null    float64\n",
      " 25  V25     984 non-null    float64\n",
      " 26  V26     984 non-null    float64\n",
      " 27  V27     984 non-null    float64\n",
      " 28  V28     984 non-null    float64\n",
      " 29  Amount  984 non-null    float64\n",
      " 30  Class   984 non-null    int64  \n",
      "dtypes: float64(30), int64(1)\n",
      "memory usage: 246.0 KB\n"
     ]
    }
   ],
   "source": [
    "new_transaction_dataset.info()"
   ]
  },
  {
   "cell_type": "markdown",
   "metadata": {
    "id": "ll3laMy_xqbT"
   },
   "source": [
    "Now, the new dataset is balanced with equal number of legit transactions and fraud transactions."
   ]
  },
  {
   "cell_type": "code",
   "execution_count": 15,
   "metadata": {
    "id": "5SFdBv_8xyYa"
   },
   "outputs": [],
   "source": [
    "X = new_transaction_dataset.drop(columns=\"Class\", axis=1)\n",
    "y = new_transaction_dataset['Class']"
   ]
  },
  {
   "cell_type": "code",
   "execution_count": 16,
   "metadata": {
    "colab": {
     "base_uri": "https://localhost:8080/",
     "height": 299
    },
    "id": "Hpe2fll2ywFw",
    "outputId": "b06ea981-ae1c-4651-ce1f-5a1d4133fa95"
   },
   "outputs": [
    {
     "data": {
      "text/html": [
       "<div>\n",
       "<style scoped>\n",
       "    .dataframe tbody tr th:only-of-type {\n",
       "        vertical-align: middle;\n",
       "    }\n",
       "\n",
       "    .dataframe tbody tr th {\n",
       "        vertical-align: top;\n",
       "    }\n",
       "\n",
       "    .dataframe thead th {\n",
       "        text-align: right;\n",
       "    }\n",
       "</style>\n",
       "<table border=\"1\" class=\"dataframe\">\n",
       "  <thead>\n",
       "    <tr style=\"text-align: right;\">\n",
       "      <th></th>\n",
       "      <th>Time</th>\n",
       "      <th>V1</th>\n",
       "      <th>V2</th>\n",
       "      <th>V3</th>\n",
       "      <th>V4</th>\n",
       "      <th>V5</th>\n",
       "      <th>V6</th>\n",
       "      <th>V7</th>\n",
       "      <th>V8</th>\n",
       "      <th>V9</th>\n",
       "      <th>...</th>\n",
       "      <th>V20</th>\n",
       "      <th>V21</th>\n",
       "      <th>V22</th>\n",
       "      <th>V23</th>\n",
       "      <th>V24</th>\n",
       "      <th>V25</th>\n",
       "      <th>V26</th>\n",
       "      <th>V27</th>\n",
       "      <th>V28</th>\n",
       "      <th>Amount</th>\n",
       "    </tr>\n",
       "  </thead>\n",
       "  <tbody>\n",
       "    <tr>\n",
       "      <th>191570</th>\n",
       "      <td>129324.0</td>\n",
       "      <td>-0.659190</td>\n",
       "      <td>0.300985</td>\n",
       "      <td>0.974375</td>\n",
       "      <td>-2.074070</td>\n",
       "      <td>-0.165510</td>\n",
       "      <td>-0.384472</td>\n",
       "      <td>1.126056</td>\n",
       "      <td>-2.427729</td>\n",
       "      <td>0.669159</td>\n",
       "      <td>...</td>\n",
       "      <td>-0.058502</td>\n",
       "      <td>0.813967</td>\n",
       "      <td>0.801664</td>\n",
       "      <td>-0.115847</td>\n",
       "      <td>0.064696</td>\n",
       "      <td>-0.573011</td>\n",
       "      <td>-0.522845</td>\n",
       "      <td>-2.175519</td>\n",
       "      <td>-1.601961</td>\n",
       "      <td>68.00</td>\n",
       "    </tr>\n",
       "    <tr>\n",
       "      <th>38415</th>\n",
       "      <td>39387.0</td>\n",
       "      <td>-1.003248</td>\n",
       "      <td>1.266156</td>\n",
       "      <td>1.309297</td>\n",
       "      <td>-1.353087</td>\n",
       "      <td>-0.096595</td>\n",
       "      <td>-1.060435</td>\n",
       "      <td>0.882678</td>\n",
       "      <td>-0.239831</td>\n",
       "      <td>0.520263</td>\n",
       "      <td>...</td>\n",
       "      <td>0.458939</td>\n",
       "      <td>-0.142043</td>\n",
       "      <td>0.081006</td>\n",
       "      <td>0.011637</td>\n",
       "      <td>0.665971</td>\n",
       "      <td>-0.203335</td>\n",
       "      <td>0.745531</td>\n",
       "      <td>0.359884</td>\n",
       "      <td>0.047133</td>\n",
       "      <td>1.31</td>\n",
       "    </tr>\n",
       "    <tr>\n",
       "      <th>27098</th>\n",
       "      <td>34385.0</td>\n",
       "      <td>-1.622794</td>\n",
       "      <td>1.162741</td>\n",
       "      <td>0.995701</td>\n",
       "      <td>-1.363309</td>\n",
       "      <td>-0.381152</td>\n",
       "      <td>-1.237467</td>\n",
       "      <td>0.446202</td>\n",
       "      <td>-0.043135</td>\n",
       "      <td>1.018277</td>\n",
       "      <td>...</td>\n",
       "      <td>0.259711</td>\n",
       "      <td>-0.295190</td>\n",
       "      <td>-0.332916</td>\n",
       "      <td>0.245540</td>\n",
       "      <td>0.399391</td>\n",
       "      <td>-0.003886</td>\n",
       "      <td>0.748958</td>\n",
       "      <td>0.575626</td>\n",
       "      <td>0.235932</td>\n",
       "      <td>3.07</td>\n",
       "    </tr>\n",
       "    <tr>\n",
       "      <th>189181</th>\n",
       "      <td>128291.0</td>\n",
       "      <td>-0.065335</td>\n",
       "      <td>1.105277</td>\n",
       "      <td>-0.510529</td>\n",
       "      <td>-0.593565</td>\n",
       "      <td>0.774591</td>\n",
       "      <td>-0.855645</td>\n",
       "      <td>1.082110</td>\n",
       "      <td>-0.252031</td>\n",
       "      <td>0.235357</td>\n",
       "      <td>...</td>\n",
       "      <td>0.119405</td>\n",
       "      <td>0.291740</td>\n",
       "      <td>1.183954</td>\n",
       "      <td>-0.204945</td>\n",
       "      <td>-0.621305</td>\n",
       "      <td>-0.650454</td>\n",
       "      <td>-0.174268</td>\n",
       "      <td>0.618489</td>\n",
       "      <td>0.372499</td>\n",
       "      <td>9.95</td>\n",
       "    </tr>\n",
       "    <tr>\n",
       "      <th>234352</th>\n",
       "      <td>147939.0</td>\n",
       "      <td>2.155114</td>\n",
       "      <td>-0.680925</td>\n",
       "      <td>-2.751542</td>\n",
       "      <td>-1.247486</td>\n",
       "      <td>1.020226</td>\n",
       "      <td>0.167963</td>\n",
       "      <td>0.139779</td>\n",
       "      <td>-0.095954</td>\n",
       "      <td>-1.221846</td>\n",
       "      <td>...</td>\n",
       "      <td>-0.147628</td>\n",
       "      <td>0.569128</td>\n",
       "      <td>1.772001</td>\n",
       "      <td>-0.238138</td>\n",
       "      <td>-1.537839</td>\n",
       "      <td>0.588385</td>\n",
       "      <td>0.412609</td>\n",
       "      <td>-0.054327</td>\n",
       "      <td>-0.119714</td>\n",
       "      <td>20.00</td>\n",
       "    </tr>\n",
       "  </tbody>\n",
       "</table>\n",
       "<p>5 rows × 30 columns</p>\n",
       "</div>"
      ],
      "text/plain": [
       "            Time        V1        V2        V3        V4        V5        V6  \\\n",
       "191570  129324.0 -0.659190  0.300985  0.974375 -2.074070 -0.165510 -0.384472   \n",
       "38415    39387.0 -1.003248  1.266156  1.309297 -1.353087 -0.096595 -1.060435   \n",
       "27098    34385.0 -1.622794  1.162741  0.995701 -1.363309 -0.381152 -1.237467   \n",
       "189181  128291.0 -0.065335  1.105277 -0.510529 -0.593565  0.774591 -0.855645   \n",
       "234352  147939.0  2.155114 -0.680925 -2.751542 -1.247486  1.020226  0.167963   \n",
       "\n",
       "              V7        V8        V9  ...       V20       V21       V22  \\\n",
       "191570  1.126056 -2.427729  0.669159  ... -0.058502  0.813967  0.801664   \n",
       "38415   0.882678 -0.239831  0.520263  ...  0.458939 -0.142043  0.081006   \n",
       "27098   0.446202 -0.043135  1.018277  ...  0.259711 -0.295190 -0.332916   \n",
       "189181  1.082110 -0.252031  0.235357  ...  0.119405  0.291740  1.183954   \n",
       "234352  0.139779 -0.095954 -1.221846  ... -0.147628  0.569128  1.772001   \n",
       "\n",
       "             V23       V24       V25       V26       V27       V28  Amount  \n",
       "191570 -0.115847  0.064696 -0.573011 -0.522845 -2.175519 -1.601961   68.00  \n",
       "38415   0.011637  0.665971 -0.203335  0.745531  0.359884  0.047133    1.31  \n",
       "27098   0.245540  0.399391 -0.003886  0.748958  0.575626  0.235932    3.07  \n",
       "189181 -0.204945 -0.621305 -0.650454 -0.174268  0.618489  0.372499    9.95  \n",
       "234352 -0.238138 -1.537839  0.588385  0.412609 -0.054327 -0.119714   20.00  \n",
       "\n",
       "[5 rows x 30 columns]"
      ]
     },
     "execution_count": 16,
     "metadata": {},
     "output_type": "execute_result"
    }
   ],
   "source": [
    "X.head()"
   ]
  },
  {
   "cell_type": "code",
   "execution_count": 17,
   "metadata": {
    "colab": {
     "base_uri": "https://localhost:8080/"
    },
    "id": "hUwhbPDTyxwB",
    "outputId": "d89f0520-f818-4476-b640-fa235a240688"
   },
   "outputs": [
    {
     "data": {
      "text/plain": [
       "191570    0\n",
       "38415     0\n",
       "27098     0\n",
       "189181    0\n",
       "234352    0\n",
       "Name: Class, dtype: int64"
      ]
     },
     "execution_count": 17,
     "metadata": {},
     "output_type": "execute_result"
    }
   ],
   "source": [
    "y.head()"
   ]
  },
  {
   "cell_type": "code",
   "execution_count": 18,
   "metadata": {
    "id": "J81Xiihzyz2y"
   },
   "outputs": [],
   "source": [
    "X_train, X_test, y_train, y_test = train_test_split(X, y, test_size=0.2, stratify=y, random_state=2)"
   ]
  },
  {
   "cell_type": "code",
   "execution_count": 19,
   "metadata": {
    "id": "UjTEgz3GzXAv"
   },
   "outputs": [],
   "source": [
    "model = LogisticRegression()"
   ]
  },
  {
   "cell_type": "code",
   "execution_count": 20,
   "metadata": {
    "colab": {
     "base_uri": "https://localhost:8080/",
     "height": 74
    },
    "id": "j34yGc4B5wPG",
    "outputId": "e9593476-7e9a-4e1a-8b18-43dc59fba9a4"
   },
   "outputs": [
    {
     "data": {
      "text/html": [
       "<style>#sk-container-id-1 {color: black;background-color: white;}#sk-container-id-1 pre{padding: 0;}#sk-container-id-1 div.sk-toggleable {background-color: white;}#sk-container-id-1 label.sk-toggleable__label {cursor: pointer;display: block;width: 100%;margin-bottom: 0;padding: 0.3em;box-sizing: border-box;text-align: center;}#sk-container-id-1 label.sk-toggleable__label-arrow:before {content: \"▸\";float: left;margin-right: 0.25em;color: #696969;}#sk-container-id-1 label.sk-toggleable__label-arrow:hover:before {color: black;}#sk-container-id-1 div.sk-estimator:hover label.sk-toggleable__label-arrow:before {color: black;}#sk-container-id-1 div.sk-toggleable__content {max-height: 0;max-width: 0;overflow: hidden;text-align: left;background-color: #f0f8ff;}#sk-container-id-1 div.sk-toggleable__content pre {margin: 0.2em;color: black;border-radius: 0.25em;background-color: #f0f8ff;}#sk-container-id-1 input.sk-toggleable__control:checked~div.sk-toggleable__content {max-height: 200px;max-width: 100%;overflow: auto;}#sk-container-id-1 input.sk-toggleable__control:checked~label.sk-toggleable__label-arrow:before {content: \"▾\";}#sk-container-id-1 div.sk-estimator input.sk-toggleable__control:checked~label.sk-toggleable__label {background-color: #d4ebff;}#sk-container-id-1 div.sk-label input.sk-toggleable__control:checked~label.sk-toggleable__label {background-color: #d4ebff;}#sk-container-id-1 input.sk-hidden--visually {border: 0;clip: rect(1px 1px 1px 1px);clip: rect(1px, 1px, 1px, 1px);height: 1px;margin: -1px;overflow: hidden;padding: 0;position: absolute;width: 1px;}#sk-container-id-1 div.sk-estimator {font-family: monospace;background-color: #f0f8ff;border: 1px dotted black;border-radius: 0.25em;box-sizing: border-box;margin-bottom: 0.5em;}#sk-container-id-1 div.sk-estimator:hover {background-color: #d4ebff;}#sk-container-id-1 div.sk-parallel-item::after {content: \"\";width: 100%;border-bottom: 1px solid gray;flex-grow: 1;}#sk-container-id-1 div.sk-label:hover label.sk-toggleable__label {background-color: #d4ebff;}#sk-container-id-1 div.sk-serial::before {content: \"\";position: absolute;border-left: 1px solid gray;box-sizing: border-box;top: 0;bottom: 0;left: 50%;z-index: 0;}#sk-container-id-1 div.sk-serial {display: flex;flex-direction: column;align-items: center;background-color: white;padding-right: 0.2em;padding-left: 0.2em;position: relative;}#sk-container-id-1 div.sk-item {position: relative;z-index: 1;}#sk-container-id-1 div.sk-parallel {display: flex;align-items: stretch;justify-content: center;background-color: white;position: relative;}#sk-container-id-1 div.sk-item::before, #sk-container-id-1 div.sk-parallel-item::before {content: \"\";position: absolute;border-left: 1px solid gray;box-sizing: border-box;top: 0;bottom: 0;left: 50%;z-index: -1;}#sk-container-id-1 div.sk-parallel-item {display: flex;flex-direction: column;z-index: 1;position: relative;background-color: white;}#sk-container-id-1 div.sk-parallel-item:first-child::after {align-self: flex-end;width: 50%;}#sk-container-id-1 div.sk-parallel-item:last-child::after {align-self: flex-start;width: 50%;}#sk-container-id-1 div.sk-parallel-item:only-child::after {width: 0;}#sk-container-id-1 div.sk-dashed-wrapped {border: 1px dashed gray;margin: 0 0.4em 0.5em 0.4em;box-sizing: border-box;padding-bottom: 0.4em;background-color: white;}#sk-container-id-1 div.sk-label label {font-family: monospace;font-weight: bold;display: inline-block;line-height: 1.2em;}#sk-container-id-1 div.sk-label-container {text-align: center;}#sk-container-id-1 div.sk-container {/* jupyter's `normalize.less` sets `[hidden] { display: none; }` but bootstrap.min.css set `[hidden] { display: none !important; }` so we also need the `!important` here to be able to override the default hidden behavior on the sphinx rendered scikit-learn.org. See: https://github.com/scikit-learn/scikit-learn/issues/21755 */display: inline-block !important;position: relative;}#sk-container-id-1 div.sk-text-repr-fallback {display: none;}</style><div id=\"sk-container-id-1\" class=\"sk-top-container\"><div class=\"sk-text-repr-fallback\"><pre>LogisticRegression()</pre><b>In a Jupyter environment, please rerun this cell to show the HTML representation or trust the notebook. <br />On GitHub, the HTML representation is unable to render, please try loading this page with nbviewer.org.</b></div><div class=\"sk-container\" hidden><div class=\"sk-item\"><div class=\"sk-estimator sk-toggleable\"><input class=\"sk-toggleable__control sk-hidden--visually\" id=\"sk-estimator-id-1\" type=\"checkbox\" checked><label for=\"sk-estimator-id-1\" class=\"sk-toggleable__label sk-toggleable__label-arrow\">LogisticRegression</label><div class=\"sk-toggleable__content\"><pre>LogisticRegression()</pre></div></div></div></div></div>"
      ],
      "text/plain": [
       "LogisticRegression()"
      ]
     },
     "execution_count": 20,
     "metadata": {},
     "output_type": "execute_result"
    }
   ],
   "source": [
    "model.fit(X_train, y_train)"
   ]
  },
  {
   "cell_type": "code",
   "execution_count": 21,
   "metadata": {
    "colab": {
     "base_uri": "https://localhost:8080/"
    },
    "id": "C0Tko0eV512L",
    "outputId": "e35adfde-af64-4fae-ec71-c6a9f2996d54"
   },
   "outputs": [
    {
     "name": "stdout",
     "output_type": "stream",
     "text": [
      "Accuracy score of the training dataset: 0.9237611181702668\n"
     ]
    }
   ],
   "source": [
    "# Accuracy Socre of training data\n",
    "X_train_prediction = model.predict(X_train)\n",
    "\n",
    "print(f\"Accuracy score of the training dataset: {accuracy_score(y_train, X_train_prediction)}\")"
   ]
  },
  {
   "cell_type": "code",
   "execution_count": 22,
   "metadata": {
    "colab": {
     "base_uri": "https://localhost:8080/"
    },
    "id": "neo_9eJp7GG_",
    "outputId": "d58f2076-3063-44cf-e65e-bbd6042af7ef"
   },
   "outputs": [
    {
     "name": "stdout",
     "output_type": "stream",
     "text": [
      "Accuracy score of the test dataset: 0.9035532994923858\n"
     ]
    }
   ],
   "source": [
    "# Accuracy Socre of test data\n",
    "X_test_prediction = model.predict(X_test)\n",
    "\n",
    "print(f\"Accuracy score of the test dataset: {accuracy_score(y_test, X_test_prediction)}\")"
   ]
  },
  {
   "cell_type": "code",
   "execution_count": 23,
   "metadata": {},
   "outputs": [
    {
     "name": "stdout",
     "output_type": "stream",
     "text": [
      "Predicted Result: Fraud Transaction. Actual Result: Fraud Transaction\n",
      "Predicted Result: Not Fraud Transaction. Actual Result: Not Fraud Transaction\n",
      "Predicted Result: Not Fraud Transaction. Actual Result: Not Fraud Transaction\n",
      "Predicted Result: Not Fraud Transaction. Actual Result: Not Fraud Transaction\n",
      "Predicted Result: Fraud Transaction. Actual Result: Fraud Transaction\n",
      "Predicted Result: Not Fraud Transaction. Actual Result: Not Fraud Transaction\n",
      "Predicted Result: Fraud Transaction. Actual Result: Fraud Transaction\n",
      "Predicted Result: Fraud Transaction. Actual Result: Fraud Transaction\n",
      "Predicted Result: Not Fraud Transaction. Actual Result: Not Fraud Transaction\n",
      "Predicted Result: Fraud Transaction. Actual Result: Fraud Transaction\n",
      "Predicted Result: Not Fraud Transaction. Actual Result: Not Fraud Transaction\n",
      "Predicted Result: Fraud Transaction. Actual Result: Fraud Transaction\n",
      "Predicted Result: Fraud Transaction. Actual Result: Fraud Transaction\n",
      "Predicted Result: Not Fraud Transaction. Actual Result: Not Fraud Transaction\n",
      "Predicted Result: Not Fraud Transaction. Actual Result: Not Fraud Transaction\n",
      "Predicted Result: Fraud Transaction. Actual Result: Fraud Transaction\n",
      "Predicted Result: Fraud Transaction. Actual Result: Not Fraud Transaction\n",
      "Predicted Result: Fraud Transaction. Actual Result: Fraud Transaction\n",
      "Predicted Result: Not Fraud Transaction. Actual Result: Not Fraud Transaction\n",
      "Predicted Result: Not Fraud Transaction. Actual Result: Not Fraud Transaction\n",
      "Predicted Result: Not Fraud Transaction. Actual Result: Not Fraud Transaction\n",
      "Predicted Result: Not Fraud Transaction. Actual Result: Not Fraud Transaction\n",
      "Predicted Result: Not Fraud Transaction. Actual Result: Not Fraud Transaction\n",
      "Predicted Result: Fraud Transaction. Actual Result: Fraud Transaction\n",
      "Predicted Result: Not Fraud Transaction. Actual Result: Not Fraud Transaction\n",
      "Predicted Result: Fraud Transaction. Actual Result: Fraud Transaction\n",
      "Predicted Result: Fraud Transaction. Actual Result: Fraud Transaction\n",
      "Predicted Result: Not Fraud Transaction. Actual Result: Not Fraud Transaction\n",
      "Predicted Result: Fraud Transaction. Actual Result: Fraud Transaction\n",
      "Predicted Result: Not Fraud Transaction. Actual Result: Fraud Transaction\n",
      "Predicted Result: Fraud Transaction. Actual Result: Fraud Transaction\n",
      "Predicted Result: Fraud Transaction. Actual Result: Fraud Transaction\n",
      "Predicted Result: Not Fraud Transaction. Actual Result: Not Fraud Transaction\n",
      "Predicted Result: Fraud Transaction. Actual Result: Fraud Transaction\n",
      "Predicted Result: Fraud Transaction. Actual Result: Fraud Transaction\n",
      "Predicted Result: Not Fraud Transaction. Actual Result: Not Fraud Transaction\n",
      "Predicted Result: Not Fraud Transaction. Actual Result: Not Fraud Transaction\n",
      "Predicted Result: Not Fraud Transaction. Actual Result: Fraud Transaction\n",
      "Predicted Result: Not Fraud Transaction. Actual Result: Not Fraud Transaction\n",
      "Predicted Result: Fraud Transaction. Actual Result: Fraud Transaction\n",
      "Predicted Result: Fraud Transaction. Actual Result: Fraud Transaction\n",
      "Predicted Result: Not Fraud Transaction. Actual Result: Not Fraud Transaction\n",
      "Predicted Result: Not Fraud Transaction. Actual Result: Not Fraud Transaction\n",
      "Predicted Result: Fraud Transaction. Actual Result: Fraud Transaction\n",
      "Predicted Result: Fraud Transaction. Actual Result: Fraud Transaction\n",
      "Predicted Result: Fraud Transaction. Actual Result: Fraud Transaction\n",
      "Predicted Result: Fraud Transaction. Actual Result: Fraud Transaction\n",
      "Predicted Result: Fraud Transaction. Actual Result: Fraud Transaction\n",
      "Predicted Result: Not Fraud Transaction. Actual Result: Not Fraud Transaction\n",
      "Predicted Result: Not Fraud Transaction. Actual Result: Not Fraud Transaction\n",
      "Predicted Result: Not Fraud Transaction. Actual Result: Not Fraud Transaction\n",
      "Predicted Result: Not Fraud Transaction. Actual Result: Not Fraud Transaction\n",
      "Predicted Result: Not Fraud Transaction. Actual Result: Not Fraud Transaction\n",
      "Predicted Result: Not Fraud Transaction. Actual Result: Not Fraud Transaction\n",
      "Predicted Result: Not Fraud Transaction. Actual Result: Not Fraud Transaction\n",
      "Predicted Result: Not Fraud Transaction. Actual Result: Fraud Transaction\n",
      "Predicted Result: Not Fraud Transaction. Actual Result: Not Fraud Transaction\n",
      "Predicted Result: Fraud Transaction. Actual Result: Fraud Transaction\n",
      "Predicted Result: Not Fraud Transaction. Actual Result: Not Fraud Transaction\n",
      "Predicted Result: Not Fraud Transaction. Actual Result: Not Fraud Transaction\n",
      "Predicted Result: Fraud Transaction. Actual Result: Fraud Transaction\n",
      "Predicted Result: Fraud Transaction. Actual Result: Fraud Transaction\n",
      "Predicted Result: Fraud Transaction. Actual Result: Fraud Transaction\n",
      "Predicted Result: Fraud Transaction. Actual Result: Fraud Transaction\n",
      "Predicted Result: Fraud Transaction. Actual Result: Fraud Transaction\n",
      "Predicted Result: Fraud Transaction. Actual Result: Not Fraud Transaction\n",
      "Predicted Result: Fraud Transaction. Actual Result: Fraud Transaction\n",
      "Predicted Result: Not Fraud Transaction. Actual Result: Not Fraud Transaction\n",
      "Predicted Result: Not Fraud Transaction. Actual Result: Fraud Transaction\n",
      "Predicted Result: Fraud Transaction. Actual Result: Fraud Transaction\n",
      "Predicted Result: Not Fraud Transaction. Actual Result: Not Fraud Transaction\n",
      "Predicted Result: Not Fraud Transaction. Actual Result: Not Fraud Transaction\n",
      "Predicted Result: Not Fraud Transaction. Actual Result: Not Fraud Transaction\n",
      "Predicted Result: Not Fraud Transaction. Actual Result: Not Fraud Transaction\n",
      "Predicted Result: Fraud Transaction. Actual Result: Fraud Transaction\n",
      "Predicted Result: Fraud Transaction. Actual Result: Fraud Transaction\n",
      "Predicted Result: Not Fraud Transaction. Actual Result: Not Fraud Transaction\n",
      "Predicted Result: Fraud Transaction. Actual Result: Fraud Transaction\n",
      "Predicted Result: Fraud Transaction. Actual Result: Fraud Transaction\n",
      "Predicted Result: Fraud Transaction. Actual Result: Fraud Transaction\n",
      "Predicted Result: Not Fraud Transaction. Actual Result: Not Fraud Transaction\n",
      "Predicted Result: Fraud Transaction. Actual Result: Fraud Transaction\n",
      "Predicted Result: Fraud Transaction. Actual Result: Fraud Transaction\n",
      "Predicted Result: Fraud Transaction. Actual Result: Fraud Transaction\n",
      "Predicted Result: Fraud Transaction. Actual Result: Not Fraud Transaction\n",
      "Predicted Result: Not Fraud Transaction. Actual Result: Not Fraud Transaction\n",
      "Predicted Result: Not Fraud Transaction. Actual Result: Not Fraud Transaction\n",
      "Predicted Result: Not Fraud Transaction. Actual Result: Not Fraud Transaction\n",
      "Predicted Result: Not Fraud Transaction. Actual Result: Not Fraud Transaction\n",
      "Predicted Result: Not Fraud Transaction. Actual Result: Fraud Transaction\n",
      "Predicted Result: Not Fraud Transaction. Actual Result: Not Fraud Transaction\n",
      "Predicted Result: Fraud Transaction. Actual Result: Fraud Transaction\n",
      "Predicted Result: Fraud Transaction. Actual Result: Fraud Transaction\n",
      "Predicted Result: Fraud Transaction. Actual Result: Fraud Transaction\n",
      "Predicted Result: Fraud Transaction. Actual Result: Fraud Transaction\n",
      "Predicted Result: Fraud Transaction. Actual Result: Fraud Transaction\n",
      "Predicted Result: Fraud Transaction. Actual Result: Fraud Transaction\n",
      "Predicted Result: Fraud Transaction. Actual Result: Fraud Transaction\n",
      "Predicted Result: Not Fraud Transaction. Actual Result: Not Fraud Transaction\n",
      "Predicted Result: Fraud Transaction. Actual Result: Fraud Transaction\n",
      "Predicted Result: Fraud Transaction. Actual Result: Fraud Transaction\n",
      "Predicted Result: Fraud Transaction. Actual Result: Fraud Transaction\n",
      "Predicted Result: Fraud Transaction. Actual Result: Fraud Transaction\n",
      "Predicted Result: Not Fraud Transaction. Actual Result: Not Fraud Transaction\n",
      "Predicted Result: Fraud Transaction. Actual Result: Fraud Transaction\n",
      "Predicted Result: Not Fraud Transaction. Actual Result: Not Fraud Transaction\n",
      "Predicted Result: Not Fraud Transaction. Actual Result: Not Fraud Transaction\n",
      "Predicted Result: Not Fraud Transaction. Actual Result: Not Fraud Transaction\n",
      "Predicted Result: Not Fraud Transaction. Actual Result: Not Fraud Transaction\n",
      "Predicted Result: Not Fraud Transaction. Actual Result: Not Fraud Transaction\n",
      "Predicted Result: Not Fraud Transaction. Actual Result: Not Fraud Transaction\n",
      "Predicted Result: Not Fraud Transaction. Actual Result: Not Fraud Transaction\n",
      "Predicted Result: Not Fraud Transaction. Actual Result: Not Fraud Transaction\n",
      "Predicted Result: Not Fraud Transaction. Actual Result: Not Fraud Transaction\n",
      "Predicted Result: Not Fraud Transaction. Actual Result: Fraud Transaction\n",
      "Predicted Result: Fraud Transaction. Actual Result: Fraud Transaction\n",
      "Predicted Result: Fraud Transaction. Actual Result: Fraud Transaction\n",
      "Predicted Result: Not Fraud Transaction. Actual Result: Not Fraud Transaction\n",
      "Predicted Result: Not Fraud Transaction. Actual Result: Not Fraud Transaction\n",
      "Predicted Result: Not Fraud Transaction. Actual Result: Not Fraud Transaction\n",
      "Predicted Result: Not Fraud Transaction. Actual Result: Not Fraud Transaction\n",
      "Predicted Result: Not Fraud Transaction. Actual Result: Not Fraud Transaction\n",
      "Predicted Result: Not Fraud Transaction. Actual Result: Not Fraud Transaction\n",
      "Predicted Result: Not Fraud Transaction. Actual Result: Not Fraud Transaction\n",
      "Predicted Result: Not Fraud Transaction. Actual Result: Fraud Transaction\n",
      "Predicted Result: Not Fraud Transaction. Actual Result: Fraud Transaction\n",
      "Predicted Result: Not Fraud Transaction. Actual Result: Not Fraud Transaction\n",
      "Predicted Result: Fraud Transaction. Actual Result: Fraud Transaction\n",
      "Predicted Result: Not Fraud Transaction. Actual Result: Not Fraud Transaction\n",
      "Predicted Result: Fraud Transaction. Actual Result: Fraud Transaction\n",
      "Predicted Result: Fraud Transaction. Actual Result: Fraud Transaction\n",
      "Predicted Result: Fraud Transaction. Actual Result: Not Fraud Transaction\n",
      "Predicted Result: Not Fraud Transaction. Actual Result: Not Fraud Transaction\n",
      "Predicted Result: Fraud Transaction. Actual Result: Fraud Transaction\n",
      "Predicted Result: Not Fraud Transaction. Actual Result: Not Fraud Transaction\n",
      "Predicted Result: Fraud Transaction. Actual Result: Fraud Transaction\n",
      "Predicted Result: Not Fraud Transaction. Actual Result: Fraud Transaction\n",
      "Predicted Result: Fraud Transaction. Actual Result: Fraud Transaction\n",
      "Predicted Result: Fraud Transaction. Actual Result: Not Fraud Transaction\n",
      "Predicted Result: Fraud Transaction. Actual Result: Fraud Transaction\n",
      "Predicted Result: Not Fraud Transaction. Actual Result: Not Fraud Transaction\n",
      "Predicted Result: Not Fraud Transaction. Actual Result: Not Fraud Transaction\n",
      "Predicted Result: Fraud Transaction. Actual Result: Fraud Transaction\n",
      "Predicted Result: Fraud Transaction. Actual Result: Fraud Transaction\n",
      "Predicted Result: Not Fraud Transaction. Actual Result: Not Fraud Transaction\n",
      "Predicted Result: Not Fraud Transaction. Actual Result: Not Fraud Transaction\n",
      "Predicted Result: Fraud Transaction. Actual Result: Fraud Transaction\n",
      "Predicted Result: Not Fraud Transaction. Actual Result: Not Fraud Transaction\n",
      "Predicted Result: Fraud Transaction. Actual Result: Fraud Transaction\n",
      "Predicted Result: Not Fraud Transaction. Actual Result: Fraud Transaction\n",
      "Predicted Result: Not Fraud Transaction. Actual Result: Not Fraud Transaction\n",
      "Predicted Result: Not Fraud Transaction. Actual Result: Fraud Transaction\n",
      "Predicted Result: Fraud Transaction. Actual Result: Fraud Transaction\n",
      "Predicted Result: Fraud Transaction. Actual Result: Fraud Transaction\n",
      "Predicted Result: Not Fraud Transaction. Actual Result: Not Fraud Transaction\n",
      "Predicted Result: Not Fraud Transaction. Actual Result: Not Fraud Transaction\n",
      "Predicted Result: Fraud Transaction. Actual Result: Fraud Transaction\n",
      "Predicted Result: Fraud Transaction. Actual Result: Fraud Transaction\n",
      "Predicted Result: Not Fraud Transaction. Actual Result: Not Fraud Transaction\n",
      "Predicted Result: Not Fraud Transaction. Actual Result: Not Fraud Transaction\n",
      "Predicted Result: Not Fraud Transaction. Actual Result: Not Fraud Transaction\n",
      "Predicted Result: Fraud Transaction. Actual Result: Fraud Transaction\n",
      "Predicted Result: Not Fraud Transaction. Actual Result: Not Fraud Transaction\n",
      "Predicted Result: Fraud Transaction. Actual Result: Fraud Transaction\n",
      "Predicted Result: Fraud Transaction. Actual Result: Fraud Transaction\n",
      "Predicted Result: Not Fraud Transaction. Actual Result: Not Fraud Transaction\n",
      "Predicted Result: Not Fraud Transaction. Actual Result: Not Fraud Transaction\n",
      "Predicted Result: Fraud Transaction. Actual Result: Fraud Transaction\n",
      "Predicted Result: Not Fraud Transaction. Actual Result: Not Fraud Transaction\n",
      "Predicted Result: Fraud Transaction. Actual Result: Fraud Transaction\n",
      "Predicted Result: Fraud Transaction. Actual Result: Fraud Transaction\n",
      "Predicted Result: Not Fraud Transaction. Actual Result: Not Fraud Transaction\n",
      "Predicted Result: Fraud Transaction. Actual Result: Fraud Transaction\n",
      "Predicted Result: Fraud Transaction. Actual Result: Fraud Transaction\n",
      "Predicted Result: Not Fraud Transaction. Actual Result: Not Fraud Transaction\n",
      "Predicted Result: Not Fraud Transaction. Actual Result: Fraud Transaction\n",
      "Predicted Result: Not Fraud Transaction. Actual Result: Not Fraud Transaction\n",
      "Predicted Result: Not Fraud Transaction. Actual Result: Not Fraud Transaction\n",
      "Predicted Result: Not Fraud Transaction. Actual Result: Not Fraud Transaction\n",
      "Predicted Result: Not Fraud Transaction. Actual Result: Not Fraud Transaction\n",
      "Predicted Result: Not Fraud Transaction. Actual Result: Not Fraud Transaction\n",
      "Predicted Result: Fraud Transaction. Actual Result: Fraud Transaction\n",
      "Predicted Result: Not Fraud Transaction. Actual Result: Not Fraud Transaction\n",
      "Predicted Result: Not Fraud Transaction. Actual Result: Not Fraud Transaction\n",
      "Predicted Result: Fraud Transaction. Actual Result: Fraud Transaction\n",
      "Predicted Result: Not Fraud Transaction. Actual Result: Not Fraud Transaction\n",
      "Predicted Result: Not Fraud Transaction. Actual Result: Not Fraud Transaction\n",
      "Predicted Result: Not Fraud Transaction. Actual Result: Fraud Transaction\n",
      "Predicted Result: Not Fraud Transaction. Actual Result: Not Fraud Transaction\n",
      "Predicted Result: Not Fraud Transaction. Actual Result: Not Fraud Transaction\n",
      "Predicted Result: Fraud Transaction. Actual Result: Fraud Transaction\n",
      "Predicted Result: Fraud Transaction. Actual Result: Fraud Transaction\n",
      "Predicted Result: Not Fraud Transaction. Actual Result: Fraud Transaction\n",
      "Predicted Result: Fraud Transaction. Actual Result: Fraud Transaction\n",
      "Predicted Result: Fraud Transaction. Actual Result: Fraud Transaction\n",
      "Predicted Result: Fraud Transaction. Actual Result: Fraud Transaction\n",
      "Predicted Result: Not Fraud Transaction. Actual Result: Not Fraud Transaction\n"
     ]
    }
   ],
   "source": [
    "label_names = ['Not Fraud Transaction', 'Fraud Transaction']\n",
    "\n",
    "y_test = y_test.reset_index(drop=True)\n",
    "\n",
    "for i in range(len(X_test_prediction)):\n",
    "    print(f\"Predicted Result: {label_names[X_test_prediction[i].astype('int')]}. Actual Result: {label_names[y_test[i].astype('int')]}\")"
   ]
  }
 ],
 "metadata": {
  "colab": {
   "provenance": []
  },
  "kernelspec": {
   "display_name": "Python 3 (ipykernel)",
   "language": "python",
   "name": "python3"
  },
  "language_info": {
   "codemirror_mode": {
    "name": "ipython",
    "version": 3
   },
   "file_extension": ".py",
   "mimetype": "text/x-python",
   "name": "python",
   "nbconvert_exporter": "python",
   "pygments_lexer": "ipython3",
   "version": "3.11.2"
  }
 },
 "nbformat": 4,
 "nbformat_minor": 1
}
